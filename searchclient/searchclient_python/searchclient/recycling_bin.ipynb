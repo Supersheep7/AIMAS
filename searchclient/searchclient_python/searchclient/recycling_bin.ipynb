{
 "cells": [
  {
   "cell_type": "markdown",
   "metadata": {},
   "source": [
    "### From Searchclient.py\n"
   ]
  },
  {
   "cell_type": "code",
   "execution_count": null,
   "metadata": {},
   "outputs": [],
   "source": [
    "import io\n",
    "import cProfile\n",
    "from frontier import FrontierBFS, FrontierDFS, FrontierBestFirst, FrontierBestFirstWidth\n",
    "from heuristic import HeuristicAStar, HeuristicWeightedAStar, HeuristicGreedy, HeuristicBFWS\n",
    "from graphsearch import search"
   ]
  },
  {
   "cell_type": "code",
   "execution_count": null,
   "metadata": {},
   "outputs": [],
   "source": [
    "''' Function for single-agent levels '''\n",
    "\n",
    "@staticmethod\n",
    "def parse_level(server_messages) -> 'State':\n",
    "\n",
    "    # We can assume that the level file is conforming to specification, since the server verifies this.\n",
    "    # Read domain.\n",
    "    server_messages.readline() # #domain\n",
    "    server_messages.readline() # hospital\n",
    "    \n",
    "    # Read Level name.\n",
    "    server_messages.readline() # #levelname\n",
    "    server_messages.readline() # <name>\n",
    "    \n",
    "    # Read colors.\n",
    "    server_messages.readline() # #colors\n",
    "    agent_colors = [None for _ in range(10)]\n",
    "    box_colors = [None for _ in range(26)]\n",
    "    line = server_messages.readline()\n",
    "    while not line.startswith('#'):\n",
    "        split = line.split(':')\n",
    "        color = Color.from_string(split[0].strip()) \n",
    "        entities = [e.strip() for e in split[1].split(',')]\n",
    "        for e in entities:\n",
    "            if '0' <= e <= '9':\n",
    "                agent_colors[ord(e) - ord('0')] = color\n",
    "            elif 'A' <= e <= 'Z':\n",
    "                box_colors[ord(e) - ord('A')] = color\n",
    "        line = server_messages.readline()\n",
    "    \n",
    "\n",
    "    # Read initial state.\n",
    "    # line is currently \"#initial\".\n",
    "    num_rows = 0\n",
    "    num_cols = 0\n",
    "    level_lines = []\n",
    "    line = server_messages.readline()\n",
    "    while not line.startswith('#'):\n",
    "        level_lines.append(line)\n",
    "        num_cols = max(num_cols, len(line))\n",
    "        num_rows += 1\n",
    "        line = server_messages.readline()\n",
    "\n",
    "    num_agents = 0\n",
    "    agent_rows = [None for _ in range(10)]\n",
    "    agent_cols = [None for _ in range(10)]\n",
    "    walls = [[False for _ in range(num_cols)] for _ in range(num_rows)]\n",
    "    boxes = [['' for _ in range(num_cols)] for _ in range(num_rows)]\n",
    "    row = 0\n",
    "    for line in level_lines:\n",
    "        for col, c in enumerate(line):\n",
    "            if '0' <= c <= '9':\n",
    "                agent_rows[ord(c) - ord('0')] = row\n",
    "                agent_cols[ord(c) - ord('0')] = col\n",
    "                num_agents += 1\n",
    "            elif 'A' <= c <= 'Z':\n",
    "                boxes[row][col] = c\n",
    "            elif c == '+':\n",
    "                walls[row][col] = True\n",
    "        \n",
    "        row += 1\n",
    "    del agent_rows[num_agents:]\n",
    "    del agent_rows[num_agents:]\n",
    "    \n",
    "    # Read goal state.\n",
    "    # line is currently \"#goal\".\n",
    "    goals = [['' for _ in range(num_cols)] for _ in range(num_rows)]\n",
    "    line = server_messages.readline()\n",
    "    row = 0\n",
    "    while not line.startswith('#'):\n",
    "        for col, c in enumerate(line):\n",
    "            if '0' <= c <= '9' or 'A' <= c <= 'Z':\n",
    "                goals[row][col] = c\n",
    "        \n",
    "        row += 1\n",
    "        line = server_messages.readline()\n",
    "    \n",
    "    # End.\n",
    "    # line is currently \"#end\".\n",
    "    \n",
    "    State.agent_colors = agent_colors\n",
    "    State.walls = walls\n",
    "    State.box_colors = box_colors\n",
    "\n",
    "    return State(agent_rows, agent_cols, boxes, goals)\n"
   ]
  },
  {
   "cell_type": "code",
   "execution_count": null,
   "metadata": {},
   "outputs": [],
   "source": [
    "if args.bfs:\n",
    "                frontier = FrontierBFS()\n",
    "            elif args.dfs:\n",
    "                frontier = FrontierDFS()\n",
    "            elif args.astar:\n",
    "                frontier = FrontierBestFirst(HeuristicAStar(initial_state))\n",
    "            elif args.wastar:\n",
    "                frontier = FrontierBestFirst(HeuristicWeightedAStar(initial_state, args.wastar))\n",
    "            elif args.greedy:\n",
    "                frontier = FrontierBestFirst(HeuristicGreedy(initial_state))\n",
    "            elif args.bfws:\n",
    "                frontier = FrontierBestFirstWidth(HeuristicBFWS(initial_state))\n",
    "            else:\n",
    "                # Default to BFS search.\n",
    "                frontier = FrontierBFS()\n",
    "                print('Defaulting to BFS search. Use arguments -bfs, -dfs, -astar, -wastar, or -greedy to set the search strategy.', file=sys.stderr, flush=True)          \n"
   ]
  },
  {
   "cell_type": "code",
   "execution_count": null,
   "metadata": {},
   "outputs": [],
   "source": [
    "# Search for a plan.\n",
    "print('Starting {}.'.format(frontier.get_name()), file=sys.stderr, flush=True)\n",
    "plan = search(initial_state, frontier)"
   ]
  },
  {
   "cell_type": "markdown",
   "metadata": {},
   "source": [
    "### "
   ]
  }
 ],
 "metadata": {
  "language_info": {
   "name": "python"
  }
 },
 "nbformat": 4,
 "nbformat_minor": 2
}
