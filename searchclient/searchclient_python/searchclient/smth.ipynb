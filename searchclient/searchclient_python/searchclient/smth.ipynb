{
 "cells": [
  {
   "cell_type": "code",
   "execution_count": 46,
   "metadata": {},
   "outputs": [],
   "source": [
    "plan0 = [[('AgentAt0', (1, 7)), ('BoxAtA', (2, 10))], [('AgentAt0', (1, 6)), ('BoxAtA', (2, 10))], [('AgentAt0', (1, 5)), ('BoxAtA', (2, 10))], [('AgentAt0', (1, 4)), ('BoxAtA', (2, 10))], [('AgentAt0', (1, 3)), ('BoxAtA', (2, 10))], [('AgentAt0', (1, 2)), ('BoxAtA', (2, 10))], [('AgentAt0', (1, 1)), ('BoxAtA', (2, 10))], [('AgentAt0', (2, 1)), ('BoxAtA', (2, 10))], [('AgentAt0', (3, 1)), ('BoxAtA', (2, 10))], [('AgentAt0', (3, 2)), ('BoxAtA', (2, 10))], [('AgentAt0', (3, 3)), ('BoxAtA', (2, 10))], [('AgentAt0', (3, 4)), ('BoxAtA', (2, 10))], [('AgentAt0', (3, 5)), ('BoxAtA', (2, 10))], [('AgentAt0', (3, 6)), ('BoxAtA', (2, 10))], [('AgentAt0', (3, 7)), ('BoxAtA', (2, 10))], [('AgentAt0', (3, 8)), ('BoxAtA', (2, 10))], [('AgentAt0', (3, 9)), ('BoxAtA', (2, 10))], [('AgentAt0', (3, 10)), ('BoxAtA', (2, 10))], [('AgentAt0', (2, 10)), ('BoxAtA', (1, 10))]]\n",
    "plan1 = [[('AgentAt0', (1, 7)), ('BoxAtB', (4, 1))], [('AgentAt0', (1, 6)), ('BoxAtB', (4, 1))], [('AgentAt0', (5, 6)), ('BoxAtB', (4, 1))], [('AgentAt0', (5, 7)), ('BoxAtB', (4, 1))], [('AgentAt0', (5, 8)), ('BoxAtB', (4, 1))], [('AgentAt0', (5, 9)), ('BoxAtB', (4, 1))], [('AgentAt0', (5, 10)), ('BoxAtB', (4, 1))], [('AgentAt0', (4, 10)), ('BoxAtB', (4, 1))], [('AgentAt0', (3, 10)), ('BoxAtB', (4, 1))], [('AgentAt0', (3, 9)), ('BoxAtB', (4, 1))], [('AgentAt0', (3, 8)), ('BoxAtB', (4, 1))], [('AgentAt0', (3, 7)), ('BoxAtB', (4, 1))], [('AgentAt0', (3, 6)), ('BoxAtB', (4, 1))], [('AgentAt0', (3, 5)), ('BoxAtB', (4, 1))], [('AgentAt0', (3, 4)), ('BoxAtB', (4, 1))], [('AgentAt0', (3, 3)), ('BoxAtB', (4, 1))], [('AgentAt0', (3, 2)), ('BoxAtB', (4, 1))], [('AgentAt0', (3, 1)), ('BoxAtB', (4, 1))], [('AgentAt0', (4, 1)), ('BoxAtB', (5, 1))], [('AgentAt0', (4, 1)), ('BoxAtB', (5, 2))]]\n",
    "plans = [plan0, plan1]"
   ]
  },
  {
   "cell_type": "code",
   "execution_count": 47,
   "metadata": {},
   "outputs": [],
   "source": [
    "def match_length(arr1, arr2):\n",
    "    len_diff = abs(len(arr2) - len(arr1))\n",
    "    if len(arr1) < len(arr2):\n",
    "        last_value = arr1[-1]\n",
    "        arr1 += [last_value] * len_diff\n",
    "    elif len(arr2) < len(arr1):\n",
    "        last_value = arr2[-1]\n",
    "        arr2 += [last_value] * len_diff\n",
    "    return arr1, arr2"
   ]
  },
  {
   "cell_type": "code",
   "execution_count": 48,
   "metadata": {},
   "outputs": [],
   "source": [
    "def validate(plan, plan_list):\n",
    "\n",
    "    # Simple implementation for MAPF. We could need this also for teams and add boxes to the mix\n",
    "    agent_i = plan[0][0][0]     # AgentAt0\n",
    "    \n",
    "    other_plans = [lst for lst in plan_list if lst is not plan]\n",
    "    conflicts = []\n",
    "\n",
    "    for other_plan in other_plans:\n",
    "        \n",
    "        agent_j = other_plan[0][0][0]   # AgentAt1\n",
    "        # Pads the shortest plan with copies of the last atom representation (agent still on the goal cell)\n",
    "        plan, other_plan = match_length(plan, other_plan)   \n",
    "        for j in range(len(plan)):\n",
    "            if plan[j][0][1] == other_plan[j][0][1] or plan[j][1][1] == other_plan[j][1][1]:\n",
    "                conflicts.append((agent_i, agent_j, (plan[j][0][1], plan[j][1][1]), j))\n",
    "\n",
    "    return conflicts    # [(a0, ai, v, t), ..., (a0, aj, v, t)]"
   ]
  },
  {
   "cell_type": "code",
   "execution_count": 49,
   "metadata": {},
   "outputs": [
    {
     "data": {
      "text/plain": [
       "[('AgentAt0', 'AgentAt0', ((1, 7), (2, 10)), 0),\n",
       " ('AgentAt0', 'AgentAt0', ((1, 6), (2, 10)), 1)]"
      ]
     },
     "execution_count": 49,
     "metadata": {},
     "output_type": "execute_result"
    }
   ],
   "source": [
    "validate(plan0, plans)"
   ]
  }
 ],
 "metadata": {
  "kernelspec": {
   "display_name": "Python 3",
   "language": "python",
   "name": "python3"
  },
  "language_info": {
   "codemirror_mode": {
    "name": "ipython",
    "version": 3
   },
   "file_extension": ".py",
   "mimetype": "text/x-python",
   "name": "python",
   "nbconvert_exporter": "python",
   "pygments_lexer": "ipython3",
   "version": "3.10.11"
  }
 },
 "nbformat": 4,
 "nbformat_minor": 2
}
