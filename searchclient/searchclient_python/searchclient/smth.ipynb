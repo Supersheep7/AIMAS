{
 "cells": [
  {
   "cell_type": "code",
   "execution_count": 18,
   "metadata": {},
   "outputs": [],
   "source": [
    "plan0 = [[('AgentAt0', (2, 6)), ('BoxAtA', (2, 10))], [('AgentAt0', (1, 6)), ('BoxAtA', (2, 10))], [('AgentAt0', (1, 5)), ('BoxAtA', (2, 10))], [('AgentAt0', (1, 4)), ('BoxAtA', (2, 10))], [('AgentAt0', (1, 3)), ('BoxAtA', (2, 10))], [('AgentAt0', (1, 2)), ('BoxAtA', (2, 10))], [('AgentAt0', (1, 1)), ('BoxAtA', (2, 10))], [('AgentAt0', (2, 1)), ('BoxAtA', (2, 10))], [('AgentAt0', (3, 1)), ('BoxAtA', (2, 10))], [('AgentAt0', (3, 2)), ('BoxAtA', (2, 10))], [('AgentAt0', (3, 3)), ('BoxAtA', (2, 10))], [('AgentAt0', (3, 4)), ('BoxAtA', (2, 10))], [('AgentAt0', (3, 5)), ('BoxAtA', (2, 10))], [('AgentAt0', (3, 6)), ('BoxAtA', (2, 10))], [('AgentAt0', (3, 7)), ('BoxAtA', (2, 10))], [('AgentAt0', (3, 8)), ('BoxAtA', (2, 10))], [('AgentAt0', (3, 9)), ('BoxAtA', (2, 10))], [('AgentAt0', (3, 10)), ('BoxAtA', (2, 10))], [('AgentAt0', (2, 10)), ('BoxAtA', (1, 10))]]\n",
    "plan1 = [[('AgentAt0', (1, 7)), ('BoxAtB', (4, 1))], [('AgentAt0', (1, 6)), ('BoxAtB', (4, 1))], [('AgentAt0', (5, 6)), ('BoxAtB', (4, 1))], [('AgentAt0', (5, 7)), ('BoxAtB', (4, 1))], [('AgentAt0', (5, 8)), ('BoxAtB', (4, 1))], [('AgentAt0', (5, 9)), ('BoxAtB', (4, 1))], [('AgentAt0', (5, 10)), ('BoxAtB', (4, 1))], [('AgentAt0', (4, 10)), ('BoxAtB', (4, 1))], [('AgentAt0', (3, 10)), ('BoxAtB', (4, 1))], [('AgentAt0', (3, 9)), ('BoxAtB', (4, 1))], [('AgentAt0', (3, 8)), ('BoxAtB', (4, 1))], [('AgentAt0', (3, 7)), ('BoxAtB', (4, 1))], [('AgentAt0', (3, 6)), ('BoxAtB', (4, 1))], [('AgentAt0', (3, 5)), ('BoxAtB', (4, 1))], [('AgentAt0', (3, 4)), ('BoxAtB', (4, 1))], [('AgentAt0', (3, 3)), ('BoxAtB', (4, 1))], [('AgentAt0', (3, 2)), ('BoxAtB', (4, 1))], [('AgentAt0', (3, 1)), ('BoxAtB', (4, 1))], [('AgentAt0', (4, 1)), ('BoxAtB', (5, 1))], [('AgentAt0', (4, 1)), ('BoxAtB', (5, 2))]]\n",
    "plans = [plan0, plan1]"
   ]
  },
  {
   "cell_type": "code",
   "execution_count": 14,
   "metadata": {},
   "outputs": [],
   "source": [
    "def match_length(arr1, arr2):\n",
    "    len_diff = abs(len(arr2) - len(arr1))\n",
    "    if len(arr1) < len(arr2):\n",
    "        last_value = arr1[-1]\n",
    "        arr1 += [last_value] * len_diff\n",
    "    elif len(arr2) < len(arr1):\n",
    "        last_value = arr2[-1]\n",
    "        arr2 += [last_value] * len_diff\n",
    "    return arr1, arr2"
   ]
  },
  {
   "cell_type": "code",
   "execution_count": 15,
   "metadata": {},
   "outputs": [],
   "source": [
    "from state import State, Constraint"
   ]
  },
  {
   "cell_type": "code",
   "execution_count": 16,
   "metadata": {},
   "outputs": [],
   "source": [
    "def validate(plan, plan_list):\n",
    "\n",
    "    # Simple implementation for MAPF. We could need this also for teams and add boxes to the mix\n",
    "    agent_i = plan[0][0][0]     # AgentAt0\n",
    "    \n",
    "    other_plans = [lst for lst in plan_list if lst is not plan]\n",
    "    constraints = []\n",
    "\n",
    "    for other_plan in other_plans:\n",
    "        \n",
    "        # Pads the shortest plan with copies of the last atom representation (agent still on the goal cell)\n",
    "        plan, other_plan = match_length(plan, other_plan)   \n",
    "        for j in range(len(plan)):\n",
    "            if plan[j][0][1] == other_plan[j][0][1] or plan[j][1][1] == other_plan[j][1][1]:\n",
    "                constraints.append(Constraint(agent=agent_i, loc_from=(plan[j-1][0][1], plan[j-1][1][1]), loc_to=(plan[j][0][1], plan[j][1][1]), time=j))\n",
    "\n",
    "    return constraints    # [ConstraintObject0, ..., ConstraintObjectn]"
   ]
  },
  {
   "cell_type": "code",
   "execution_count": 19,
   "metadata": {},
   "outputs": [
    {
     "name": "stdout",
     "output_type": "stream",
     "text": [
      "AgentAt0\n",
      "((2, 6), (2, 10))\n",
      "((1, 6), (2, 10))\n",
      "1\n"
     ]
    }
   ],
   "source": [
    "checks = validate(plan0, plans)\n",
    "\n",
    "print(checks[0].agent)\n",
    "print(checks[0].loc_from)       # Still don't think we need this\n",
    "print(checks[0].loc_to)\n",
    "print(checks[0].time)\n"
   ]
  },
  {
   "cell_type": "code",
   "execution_count": null,
   "metadata": {},
   "outputs": [],
   "source": [
    "import numpy as np\n",
    "\n",
    "def plans_from_states(initial_states):\n",
    "\n",
    "            plans = []\n",
    "            plans_repr = []\n",
    "\n",
    "            for num, initial_state in enumerate(initial_states):\n",
    "\n",
    "                frontier = None\n",
    "                if args.bfs:\n",
    "                    frontier = FrontierBFS()\n",
    "                elif args.dfs:\n",
    "                    frontier = FrontierDFS()\n",
    "                elif args.astar:\n",
    "                    frontier = FrontierBestFirst(HeuristicAStar(initial_state))\n",
    "                elif args.wastar:\n",
    "                    frontier = FrontierBestFirst(HeuristicWeightedAStar(initial_state, args.wastar))\n",
    "                elif args.greedy:\n",
    "                    frontier = FrontierBestFirst(HeuristicGreedy(initial_state))\n",
    "                elif args.bfws:\n",
    "                    frontier = FrontierBestFirstWidth(HeuristicBFWS(initial_state))\n",
    "                else:\n",
    "                    # Default to BFS search.\n",
    "                    frontier = FrontierBFS()\n",
    "                    print('Defaulting to BFS search. Use arguments -bfs, -dfs, -astar, -wastar, or -greedy to set the search strategy.', file=sys.stderr, flush=True)            \n",
    "                plan, plan_repr = search(initial_state, frontier)\n",
    "                plans.append(plan) \n",
    "                plans_repr.append(plan_repr)\n",
    "                print(\"Ended search for initial state number\", num)\n",
    "                print()\n",
    "                print(\"Plan extracted:\")\n",
    "                print(plan)\n",
    "                print(plan_repr)\n",
    "                print()\n",
    "                return plans, plans_repr\n",
    "\n",
    "class Node():\n",
    "\n",
    "    def __init__(self, states):\n",
    "        self.initial_states = states\n",
    "        self.constraints = [state.constraints for state in self.initial_states]\n",
    "        self.plans, self.paths = plans_from_states(self.initial_states)\n",
    "        self.cost = len(max(self.plans)) # length of longest solution\n",
    "\n",
    "def CBS(initial_states):\n",
    "\n",
    "    root = Node(initial_states)\n",
    "    open = set()\n",
    "    open.add(root)\n",
    "\n",
    "    while open:\n",
    "        P = min(open, key=lambda x: x.cost)\n",
    "        C = set()\n",
    "\n",
    "        for path in P.paths:\n",
    "            C.add(validate(path, P.paths))      # C is the set of constraints. Here we add the constraints for each path\n",
    "\n",
    "        if len(C) < 1:\n",
    "            solution = [list(x) for x in zip(*P.plans)] \n",
    "            return solution       # Found solution, return solution in joint action normal form\n",
    "        \n",
    "        for constraint_set in C:                # Iter through each constraint set (the n of constraints after the validation of a single path)\n",
    "            A = Node(initial_states)            # Initialize node\n",
    "            A.constraints = P.constraints + constraint_set  \n",
    "            A.plans, A.paths = plans_from_states(A.initial_states)\n",
    "            A.cost = len(max(A.plans))\n",
    "            open.add(A)\n",
    "            \n",
    "\n",
    "\n"
   ]
  }
 ],
 "metadata": {
  "kernelspec": {
   "display_name": "Python 3",
   "language": "python",
   "name": "python3"
  },
  "language_info": {
   "codemirror_mode": {
    "name": "ipython",
    "version": 3
   },
   "file_extension": ".py",
   "mimetype": "text/x-python",
   "name": "python",
   "nbconvert_exporter": "python",
   "pygments_lexer": "ipython3",
   "version": "3.10.11"
  }
 },
 "nbformat": 4,
 "nbformat_minor": 2
}
